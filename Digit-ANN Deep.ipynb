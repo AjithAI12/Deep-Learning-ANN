{
 "cells": [
  {
   "cell_type": "code",
   "execution_count": 4,
   "id": "be949777",
   "metadata": {},
   "outputs": [],
   "source": [
    "# Basic Libraries\n",
    "#NumPy can be used to perform mathematical operations on arrays , multidimensional array.\n",
    "import numpy as np\n",
    "#Pandas is an open source Python package that is most widely used for data science/data analysis and machine learning task\n",
    "import pandas as pd\n",
    "\n",
    "# Visualization libraries\n",
    "#Matplotlib is a cross-platform, data visualization and graphical plotting library for Python and its numerical extension NumPy\n",
    "import matplotlib.pyplot as plt\n",
    "#pydot is an interface to Graph vizualisation\n",
    "import pydot\n",
    "#Seaborn is a visualization library for statistical graphics plotting in Python.\n",
    "import seaborn as sns\n",
    "\n",
    "#Evaluation library\n",
    "from sklearn.metrics import confusion_matrix\n",
    "from sklearn.metrics import accuracy_score\n",
    "from sklearn.model_selection import GridSearchCV\n",
    "\n",
    "# Deep Learning libraries\n",
    "#tensorFlow is a Python library for fast numerical computing created and released by Google.\n",
    "import tensorflow as tf\n",
    "from tensorflow.keras import layers\n",
    "#Keras is a powerful and easy-to-use free open source Python library for developing and evaluating deep learning models.\n",
    "import keras\n",
    "from keras.models import Sequential\n",
    "from keras.layers.core import Dense,Activation,Dropout\n",
    "from keras.datasets import mnist\n",
    "from keras.utils.np_utils import to_categorical\n",
    "from keras.wrappers.scikit_learn import KerasClassifier"
   ]
  },
  {
   "cell_type": "code",
   "execution_count": 5,
   "id": "2ddaad31",
   "metadata": {},
   "outputs": [],
   "source": [
    "#pip install keras==2.7.0\n",
    "#pip install tensorflow==2.7.0\n",
    "#pip install pydot"
   ]
  },
  {
   "cell_type": "code",
   "execution_count": 6,
   "id": "36392188",
   "metadata": {},
   "outputs": [],
   "source": [
    "#pip install tensorflow==2.7.0"
   ]
  },
  {
   "cell_type": "code",
   "execution_count": 8,
   "id": "958d9246",
   "metadata": {},
   "outputs": [],
   "source": [
    "#Load Digit MNIST dataset\n",
    "#using the mnist library we load the dataset,this dataset gives training and test set input and test set output\n",
    "(X_train_digit, y_train_digit), (X_test_digit, y_test_digit) = mnist.load_data()"
   ]
  },
  {
   "cell_type": "code",
   "execution_count": 10,
   "id": "c300c22d",
   "metadata": {},
   "outputs": [
    {
     "data": {
      "text/plain": [
       "array([[[0, 0, 0, ..., 0, 0, 0],\n",
       "        [0, 0, 0, ..., 0, 0, 0],\n",
       "        [0, 0, 0, ..., 0, 0, 0],\n",
       "        ...,\n",
       "        [0, 0, 0, ..., 0, 0, 0],\n",
       "        [0, 0, 0, ..., 0, 0, 0],\n",
       "        [0, 0, 0, ..., 0, 0, 0]],\n",
       "\n",
       "       [[0, 0, 0, ..., 0, 0, 0],\n",
       "        [0, 0, 0, ..., 0, 0, 0],\n",
       "        [0, 0, 0, ..., 0, 0, 0],\n",
       "        ...,\n",
       "        [0, 0, 0, ..., 0, 0, 0],\n",
       "        [0, 0, 0, ..., 0, 0, 0],\n",
       "        [0, 0, 0, ..., 0, 0, 0]],\n",
       "\n",
       "       [[0, 0, 0, ..., 0, 0, 0],\n",
       "        [0, 0, 0, ..., 0, 0, 0],\n",
       "        [0, 0, 0, ..., 0, 0, 0],\n",
       "        ...,\n",
       "        [0, 0, 0, ..., 0, 0, 0],\n",
       "        [0, 0, 0, ..., 0, 0, 0],\n",
       "        [0, 0, 0, ..., 0, 0, 0]],\n",
       "\n",
       "       ...,\n",
       "\n",
       "       [[0, 0, 0, ..., 0, 0, 0],\n",
       "        [0, 0, 0, ..., 0, 0, 0],\n",
       "        [0, 0, 0, ..., 0, 0, 0],\n",
       "        ...,\n",
       "        [0, 0, 0, ..., 0, 0, 0],\n",
       "        [0, 0, 0, ..., 0, 0, 0],\n",
       "        [0, 0, 0, ..., 0, 0, 0]],\n",
       "\n",
       "       [[0, 0, 0, ..., 0, 0, 0],\n",
       "        [0, 0, 0, ..., 0, 0, 0],\n",
       "        [0, 0, 0, ..., 0, 0, 0],\n",
       "        ...,\n",
       "        [0, 0, 0, ..., 0, 0, 0],\n",
       "        [0, 0, 0, ..., 0, 0, 0],\n",
       "        [0, 0, 0, ..., 0, 0, 0]],\n",
       "\n",
       "       [[0, 0, 0, ..., 0, 0, 0],\n",
       "        [0, 0, 0, ..., 0, 0, 0],\n",
       "        [0, 0, 0, ..., 0, 0, 0],\n",
       "        ...,\n",
       "        [0, 0, 0, ..., 0, 0, 0],\n",
       "        [0, 0, 0, ..., 0, 0, 0],\n",
       "        [0, 0, 0, ..., 0, 0, 0]]], dtype=uint8)"
      ]
     },
     "execution_count": 10,
     "metadata": {},
     "output_type": "execute_result"
    }
   ],
   "source": [
    "#How train set saved \n",
    "X_train_digit"
   ]
  },
  {
   "cell_type": "code",
   "execution_count": 11,
   "id": "aa9f9699",
   "metadata": {},
   "outputs": [
    {
     "data": {
      "text/plain": [
       "array([5, 0, 4, ..., 5, 6, 8], dtype=uint8)"
      ]
     },
     "execution_count": 11,
     "metadata": {},
     "output_type": "execute_result"
    }
   ],
   "source": [
    "##How test set saved\n",
    "y_train_digit"
   ]
  },
  {
   "cell_type": "code",
   "execution_count": 14,
   "id": "e3397189",
   "metadata": {},
   "outputs": [
    {
     "data": {
      "image/png": "[encoded data removed]",
      "text/plain": [
       "<Figure size 720x720 with 15 Axes>"
      ]
     },
     "metadata": {},
     "output_type": "display_data"
    }
   ],
   "source": [
    "#Names of numbers in the dataset in order\n",
    "col_names = ['Zero','One','Two','Three','Four','Five','Six','Seven','Eight','Nine']\n",
    "\n",
    "#Visualizing the digits\n",
    "#Plot.figure for figure size\n",
    "plt.figure(figsize=(10,10))\n",
    "#we have 15 image so we give range 15\n",
    "for i in range(15):\n",
    "    #We take 15 image so plot the image in each rows 5 and each column 5 so it is 5x5 matrix\n",
    "    plt.subplot(5,5,i+1)\n",
    "    plt.xticks([])\n",
    "    plt.yticks([])\n",
    "    #for show the image from already given input train set and cmap for visualization purpose ,its gray color\n",
    "    plt.imshow(X_train_digit[i], cmap='gray')\n",
    "    plt.xlabel(col_names[y_train_digit[i]])\n",
    "#then it show the value\n",
    "plt.show()"
   ]
  },
  {
   "cell_type": "code",
   "execution_count": 15,
   "id": "8bf9ef25",
   "metadata": {},
   "outputs": [
    {
     "data": {
      "text/plain": [
       "(60000, 28, 28)"
      ]
     },
     "execution_count": 15,
     "metadata": {},
     "output_type": "execute_result"
    }
   ],
   "source": [
    "#Input train dataset is 3d shape ,Artificial neural network work only 2d ,so we want to convert it into 3d to 2d \n",
    "X_train_digit.shape"
   ]
  },
  {
   "cell_type": "code",
   "execution_count": 17,
   "id": "6a792f6c",
   "metadata": {},
   "outputs": [
    {
     "data": {
      "text/plain": [
       "(10000, 28, 28)"
      ]
     },
     "execution_count": 17,
     "metadata": {},
     "output_type": "execute_result"
    }
   ],
   "source": [
    "#its for testset shape\n",
    "X_test_digit.shape"
   ]
  },
  {
   "cell_type": "code",
   "execution_count": 18,
   "id": "c44b456c",
   "metadata": {},
   "outputs": [],
   "source": [
    "#using reshape we convert 3d to 2d , change the 28x28 matrix into flatten\n",
    "X_train_digit = X_train_digit.reshape(60000, 784)\n",
    "X_test_digit = X_test_digit.reshape(10000, 784)"
   ]
  },
  {
   "cell_type": "code",
   "execution_count": 19,
   "id": "17d0663c",
   "metadata": {},
   "outputs": [
    {
     "data": {
      "text/plain": [
       "(60000, 784)"
      ]
     },
     "execution_count": 19,
     "metadata": {},
     "output_type": "execute_result"
    }
   ],
   "source": [
    "#check the train set shape ,we got 2d\n",
    "X_train_digit.shape"
   ]
  },
  {
   "cell_type": "code",
   "execution_count": 20,
   "id": "cee5876d",
   "metadata": {},
   "outputs": [
    {
     "data": {
      "text/plain": [
       "(10000, 784)"
      ]
     },
     "execution_count": 20,
     "metadata": {},
     "output_type": "execute_result"
    }
   ],
   "source": [
    "X_test_digit.shape"
   ]
  },
  {
   "cell_type": "code",
   "execution_count": 21,
   "id": "149315dd",
   "metadata": {},
   "outputs": [
    {
     "data": {
      "text/plain": [
       "(10000,)"
      ]
     },
     "execution_count": 21,
     "metadata": {},
     "output_type": "execute_result"
    }
   ],
   "source": [
    "#check the test set shape,we got 1d\n",
    "y_test_digit.shape"
   ]
  },
  {
   "cell_type": "code",
   "execution_count": 22,
   "id": "4868001e",
   "metadata": {},
   "outputs": [
    {
     "data": {
      "text/plain": [
       "4"
      ]
     },
     "execution_count": 22,
     "metadata": {},
     "output_type": "execute_result"
    }
   ],
   "source": [
    "y_train_digit[2]"
   ]
  },
  {
   "cell_type": "code",
   "execution_count": 23,
   "id": "c4ae26b9",
   "metadata": {},
   "outputs": [],
   "source": [
    "#Encoding Digit MNIST Labels\n",
    "#from 0 to 9 we classify 10 classes , convert it like one hot enoding ,In ANN the output is 1d so we change into one hot encoding\n",
    "#In Artificial neural network The output will be in one hot encoding\n",
    "#Input will be 2d\n",
    "#Output will be One hot encoding\n",
    "y_train_digit = to_categorical(y_train_digit, num_classes=10)\n",
    "\n",
    "y_test_digit = to_categorical(y_test_digit, num_classes=10)"
   ]
  },
  {
   "cell_type": "code",
   "execution_count": 24,
   "id": "3c4929e9",
   "metadata": {},
   "outputs": [
    {
     "data": {
      "text/plain": [
       "array([1., 0., 0., 0., 0., 0., 0., 0., 0., 0.], dtype=float32)"
      ]
     },
     "execution_count": 24,
     "metadata": {},
     "output_type": "execute_result"
    }
   ],
   "source": [
    "y_test_digit[3]"
   ]
  },
  {
   "cell_type": "code",
   "execution_count": 25,
   "id": "d75aa178",
   "metadata": {},
   "outputs": [
    {
     "data": {
      "text/plain": [
       "array([0., 0., 0., 0., 1., 0., 0., 0., 0., 0.], dtype=float32)"
      ]
     },
     "execution_count": 25,
     "metadata": {},
     "output_type": "execute_result"
    }
   ],
   "source": [
    "y_train_digit[2]"
   ]
  },
  {
   "cell_type": "code",
   "execution_count": 26,
   "id": "16ea3fb5",
   "metadata": {},
   "outputs": [],
   "source": [
    "#Creating base neural network\n",
    "#In Deep learning model creation is the brain activity\n",
    "#In machine learning there is no brain activity\n",
    "#In deep learning there is a brain activity\n",
    "#ANN and CNN is a sequential process\n",
    "#Its look like Input Layer -> Hidden layer -> Output layer\n",
    "model = keras.Sequential([\n",
    "    #256 is the neuron number and it is hyper tuning parameter or label parameter\n",
    "    #It is a Procedure\n",
    "    #Feedforward\n",
    "    # Inputlayer ->    1_Hidden layer\n",
    "    #   784      ->       256 \n",
    "    layers.Dense(256, activation='relu', input_shape=(784,)),\n",
    "    #layers.Dropout(0.3),\n",
    "    #layers.BatchNormalization(),\n",
    "    # Input layer  ->   1_Hidden layer   ->   2_Hidden_layer\n",
    "    #    784       ->       256                    64\n",
    "    layers.Dense(64, activation='relu'),\n",
    "    #layers.Dropout(0.3),\n",
    "    #layers.BatchNormalization(),\n",
    "    #InputLayer   ->   1_Hidden Layer   ->  2_Hidden_layer  ->  3_Hiddenlayer\n",
    "    #    784      ->       256          ->        64        ->     64\n",
    "    layers.Dense(64, activation='relu'),\n",
    "    #layers.Dropout(0.3),\n",
    "    #layers.BatchNormalization(),\n",
    "    #InputLayer   ->   1_Hidden Layer   ->  2_Hidden_layer  ->  3_Hiddenlayer  -> Outputlayer\n",
    "    #    784      ->       256          ->        64        ->     64          ->      10\n",
    "    layers.Dense(10,activation='sigmoid'),\n",
    "])"
   ]
  },
  {
   "cell_type": "code",
   "execution_count": 27,
   "id": "c9c4686d",
   "metadata": {},
   "outputs": [
    {
     "name": "stdout",
     "output_type": "stream",
     "text": [
      "Model: \"sequential\"\n",
      "_________________________________________________________________\n",
      " Layer (type)                Output Shape              Param #   \n",
      "=================================================================\n",
      " dense (Dense)               (None, 256)               200960    \n",
      "                                                                 \n",
      " dense_1 (Dense)             (None, 64)                16448     \n",
      "                                                                 \n",
      " dense_2 (Dense)             (None, 64)                4160      \n",
      "                                                                 \n",
      " dense_3 (Dense)             (None, 10)                650       \n",
      "                                                                 \n",
      "=================================================================\n",
      "Total params: 222,218\n",
      "Trainable params: 222,218\n",
      "Non-trainable params: 0\n",
      "_________________________________________________________________\n"
     ]
    }
   ],
   "source": [
    "#Formula for param_number=output_channel_number*(input_channel_number+1)\n",
    "#model.summary gives how procedure works\n",
    "model.summary()"
   ]
  },
  {
   "cell_type": "code",
   "execution_count": 28,
   "id": "67a1e090",
   "metadata": {},
   "outputs": [],
   "source": [
    "#Compiling the model\n",
    "#In Deep learning first method is Brain creation and second method is Compile method and third method is fit method\n",
    "#In Compiling model we use loss , optimiser and metrics\n",
    "model.compile(loss=\"categorical_crossentropy\",\n",
    "              optimizer=\"adam\",\n",
    "              metrics = ['accuracy'])"
   ]
  },
  {
   "cell_type": "code",
   "execution_count": 29,
   "id": "a90d5d68",
   "metadata": {},
   "outputs": [
    {
     "name": "stdout",
     "output_type": "stream",
     "text": [
      "Epoch 1/10\n",
      "600/600 [==============================] - 9s 13ms/step - loss: 1.4396 - accuracy: 0.8114 - val_loss: 0.4017 - val_accuracy: 0.8966\n",
      "Epoch 2/10\n",
      "600/600 [==============================] - 10s 16ms/step - loss: 0.3165 - accuracy: 0.9152 - val_loss: 0.2712 - val_accuracy: 0.9288\n",
      "Epoch 3/10\n",
      "600/600 [==============================] - 6s 11ms/step - loss: 0.2284 - accuracy: 0.9384 - val_loss: 0.2268 - val_accuracy: 0.9426\n",
      "Epoch 4/10\n",
      "600/600 [==============================] - 9s 15ms/step - loss: 0.1853 - accuracy: 0.9495 - val_loss: 0.2017 - val_accuracy: 0.9500\n",
      "Epoch 5/10\n",
      "600/600 [==============================] - 8s 14ms/step - loss: 0.1510 - accuracy: 0.9596 - val_loss: 0.1887 - val_accuracy: 0.9577\n",
      "Epoch 6/10\n",
      "600/600 [==============================] - 8s 13ms/step - loss: 0.1376 - accuracy: 0.9619 - val_loss: 0.1768 - val_accuracy: 0.9554\n",
      "Epoch 7/10\n",
      "600/600 [==============================] - 9s 15ms/step - loss: 0.1255 - accuracy: 0.9663 - val_loss: 0.1694 - val_accuracy: 0.9587\n",
      "Epoch 8/10\n",
      "600/600 [==============================] - 8s 13ms/step - loss: 0.1110 - accuracy: 0.9699 - val_loss: 0.1570 - val_accuracy: 0.9648\n",
      "Epoch 9/10\n",
      "600/600 [==============================] - 6s 10ms/step - loss: 0.1049 - accuracy: 0.9720 - val_loss: 0.1392 - val_accuracy: 0.9676\n",
      "Epoch 10/10\n",
      "600/600 [==============================] - 6s 10ms/step - loss: 0.0918 - accuracy: 0.9754 - val_loss: 0.1740 - val_accuracy: 0.9637\n"
     ]
    }
   ],
   "source": [
    "#This problem statement come under supervised learning\n",
    "#Learning Process\n",
    "history=model.fit(X_train_digit, y_train_digit, batch_size=100, epochs=10,validation_data=(X_test_digit, y_test_digit))"
   ]
  },
  {
   "cell_type": "code",
   "execution_count": 30,
   "id": "fa99b95c",
   "metadata": {},
   "outputs": [
    {
     "name": "stdout",
     "output_type": "stream",
     "text": [
      "313/313 [==============================] - 2s 5ms/step - loss: 0.1740 - accuracy: 0.9637\n"
     ]
    }
   ],
   "source": [
    "test_loss_digit, test_acc_digit = model.evaluate(X_test_digit, y_test_digit)"
   ]
  },
  {
   "cell_type": "code",
   "execution_count": 31,
   "id": "4eacbba3",
   "metadata": {},
   "outputs": [
    {
     "name": "stdout",
     "output_type": "stream",
     "text": [
      "Digit MNIST Test accuracy: 0.9637\n"
     ]
    }
   ],
   "source": [
    "print('Digit MNIST Test accuracy:', round(test_acc_digit,6))"
   ]
  },
  {
   "cell_type": "code",
   "execution_count": 33,
   "id": "7e8fc433",
   "metadata": {},
   "outputs": [],
   "source": [
    "#Predicting the labels-DIGIT\n",
    "y_predict = model.predict(X_test_digit)"
   ]
  },
  {
   "cell_type": "code",
   "execution_count": 34,
   "id": "00e3da81",
   "metadata": {},
   "outputs": [
    {
     "data": {
      "text/plain": [
       "array([1.3480475e-06, 8.0237293e-01, 9.8856056e-01, 9.9945617e-01,\n",
       "       9.9086982e-01, 3.6149025e-03, 8.2808954e-05, 1.0000000e+00,\n",
       "       4.4842958e-03, 9.9808168e-01], dtype=float32)"
      ]
     },
     "execution_count": 34,
     "metadata": {},
     "output_type": "execute_result"
    }
   ],
   "source": [
    "y_predict[0]"
   ]
  },
  {
   "cell_type": "code",
   "execution_count": 35,
   "id": "e09b8feb",
   "metadata": {},
   "outputs": [],
   "source": [
    "#predicted test data\n",
    "y_predicts=np.argmax(y_predict, axis=1) # Here we get the index of maximum value in the encoded vector"
   ]
  },
  {
   "cell_type": "code",
   "execution_count": 36,
   "id": "91d13a84",
   "metadata": {},
   "outputs": [
    {
     "data": {
      "text/plain": [
       "array([7, 2, 1, ..., 4, 5, 6], dtype=int64)"
      ]
     },
     "execution_count": 36,
     "metadata": {},
     "output_type": "execute_result"
    }
   ],
   "source": [
    "y_predicts"
   ]
  },
  {
   "cell_type": "code",
   "execution_count": 37,
   "id": "80133f6e",
   "metadata": {},
   "outputs": [],
   "source": [
    "#actual test data\n",
    "y_test_digit_eval=np.argmax(y_test_digit, axis=1)"
   ]
  },
  {
   "cell_type": "code",
   "execution_count": 38,
   "id": "2e927523",
   "metadata": {},
   "outputs": [
    {
     "data": {
      "text/plain": [
       "array([7, 2, 1, ..., 4, 5, 6], dtype=int64)"
      ]
     },
     "execution_count": 38,
     "metadata": {},
     "output_type": "execute_result"
    }
   ],
   "source": [
    "y_test_digit_eval"
   ]
  },
  {
   "cell_type": "code",
   "execution_count": 39,
   "id": "09c50abc",
   "metadata": {},
   "outputs": [
    {
     "data": {
      "image/png": "[encoded data removed]",
      "text/plain": [
       "<Figure size 720x720 with 2 Axes>"
      ]
     },
     "metadata": {
      "needs_background": "light"
     },
     "output_type": "display_data"
    }
   ],
   "source": [
    "#Confusion matrix for Digit MNIST\n",
    "con_mat=confusion_matrix(y_test_digit_eval,y_predicts)\n",
    "plt.style.use('seaborn-deep')\n",
    "plt.figure(figsize=(10,10))\n",
    "sns.heatmap(con_mat,annot=True,annot_kws={'size': 15},linewidths=0.5,fmt=\"d\",cmap=\"gray\")\n",
    "plt.title('True or False predicted digit MNIST\\n',fontweight='bold',fontsize=15)\n",
    "plt.show()"
   ]
  },
  {
   "cell_type": "code",
   "execution_count": 40,
   "id": "22c4ee65",
   "metadata": {},
   "outputs": [
    {
     "name": "stdout",
     "output_type": "stream",
     "text": [
      "              precision    recall  f1-score   support\n",
      "\n",
      "           0       0.86      0.99      0.92       980\n",
      "           1       0.97      0.87      0.92      1135\n",
      "           2       0.95      0.95      0.95      1032\n",
      "           3       0.79      0.96      0.87      1010\n",
      "           4       0.98      0.92      0.95       982\n",
      "           5       0.97      0.70      0.81       892\n",
      "           6       0.98      0.97      0.97       958\n",
      "           7       0.98      0.96      0.97      1028\n",
      "           8       0.90      0.97      0.94       974\n",
      "           9       0.94      0.95      0.95      1009\n",
      "\n",
      "    accuracy                           0.93     10000\n",
      "   macro avg       0.93      0.92      0.92     10000\n",
      "weighted avg       0.93      0.93      0.93     10000\n",
      "\n"
     ]
    }
   ],
   "source": [
    "from sklearn.metrics import classification_report\n",
    "\n",
    "print(classification_report(y_test_digit_eval,y_predicts))"
   ]
  },
  {
   "cell_type": "code",
   "execution_count": 41,
   "id": "7e0f99a4",
   "metadata": {},
   "outputs": [
    {
     "data": {
      "image/png": "[encoded data removed]",
      "text/plain": [
       "<Figure size 432x288 with 1 Axes>"
      ]
     },
     "metadata": {
      "needs_background": "light"
     },
     "output_type": "display_data"
    }
   ],
   "source": [
    "# summarize history for accuracy\n",
    "plt.plot(history.history['accuracy'])\n",
    "plt.plot(history.history['val_accuracy'])\n",
    "plt.title('model accuracy')\n",
    "plt.ylabel('accuracy')\n",
    "plt.xlabel('epoch')\n",
    "plt.legend(['train', 'test'], loc='best')\n",
    "plt.show()\n"
   ]
  },
  {
   "cell_type": "code",
   "execution_count": 42,
   "id": "687d07bb",
   "metadata": {},
   "outputs": [
    {
     "data": {
      "image/png": "[encoded data removed]",
      "text/plain": [
       "<Figure size 432x288 with 1 Axes>"
      ]
     },
     "metadata": {
      "needs_background": "light"
     },
     "output_type": "display_data"
    }
   ],
   "source": [
    "plt.plot(history.history['loss'])\n",
    "plt.plot(history.history['val_loss'])\n",
    "plt.title('model loss')\n",
    "plt.ylabel('loss')\n",
    "plt.xlabel('epoch')\n",
    "plt.legend(['train', 'test'], loc='best')\n",
    "plt.show()"
   ]
  },
  {
   "cell_type": "code",
   "execution_count": 43,
   "id": "802c6401",
   "metadata": {},
   "outputs": [],
   "source": [
    "#tf.expand_dims(X_test_digit[0])\n",
    "y_predict_single = model.predict(X_test_digit[[3]])\n",
    "y_predicts_single=np.argmax(y_predict_single, axis=1) # Here we get the index of maximum value in the encoded vector\n",
    "y_test_digit_eval=np.argmax(y_test_digit, axis=1)"
   ]
  },
  {
   "cell_type": "code",
   "execution_count": 44,
   "id": "67ef9191",
   "metadata": {},
   "outputs": [
    {
     "data": {
      "image/png": "[encoded data removed]",
      "text/plain": [
       "<Figure size 432x288 with 1 Axes>"
      ]
     },
     "metadata": {
      "needs_background": "light"
     },
     "output_type": "display_data"
    }
   ],
   "source": [
    "#Names of numbers in the dataset in order\n",
    "col_names = ['Zero','One','Two','Three','Four','Five','Six','Seven','Eight','Nine']\n",
    "\n",
    "#Visualizing the digits\n",
    "#plt.figure(figsize=(10,10))\n",
    "plt.imshow(X_test_digit[3].reshape(28,28), cmap='gray')\n",
    "plt.xlabel(\"Actual:{},Pred:{}\".format(col_names[np.argmax(y_test_digit[3])],col_names[y_predicts_single[0]]))\n",
    "plt.show()"
   ]
  },
  {
   "cell_type": "code",
   "execution_count": 45,
   "id": "7cd74bf6",
   "metadata": {},
   "outputs": [
    {
     "data": {
      "text/plain": [
       "array([1., 0., 0., 0., 0., 0., 0., 0., 0., 0.], dtype=float32)"
      ]
     },
     "execution_count": 45,
     "metadata": {},
     "output_type": "execute_result"
    }
   ],
   "source": [
    "y_test_digit[3]"
   ]
  },
  {
   "cell_type": "code",
   "execution_count": null,
   "id": "c13451aa",
   "metadata": {},
   "outputs": [],
   "source": []
  }
 ],
 "metadata": {
  "kernelspec": {
   "display_name": "Python 3",
   "language": "python",
   "name": "python3"
  },
  "language_info": {
   "codemirror_mode": {
    "name": "ipython",
    "version": 3
   },
   "file_extension": ".py",
   "mimetype": "text/x-python",
   "name": "python",
   "nbconvert_exporter": "python",
   "pygments_lexer": "ipython3",
   "version": "3.7.6"
  }
 },
 "nbformat": 4,
 "nbformat_minor": 5
}
